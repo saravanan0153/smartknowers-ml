{
  "nbformat": 4,
  "nbformat_minor": 0,
  "metadata": {
    "colab": {
      "name": "mini_project1.ipynb",
      "provenance": [],
      "collapsed_sections": [],
      "mount_file_id": "1dCqxdDOhvIk39IqAXViexA7C-tqmWlyC",
      "authorship_tag": "ABX9TyOV4H2FuI6/8O2282/5MgAD",
      "include_colab_link": true
    },
    "kernelspec": {
      "name": "python3",
      "display_name": "Python 3"
    }
  },
  "cells": [
    {
      "cell_type": "markdown",
      "metadata": {
        "id": "view-in-github",
        "colab_type": "text"
      },
      "source": [
        "<a href=\"https://colab.research.google.com/github/saravanan0153/smartknowers-ml/blob/master/mini_project1.ipynb\" target=\"_parent\"><img src=\"https://colab.research.google.com/assets/colab-badge.svg\" alt=\"Open In Colab\"/></a>"
      ]
    },
    {
      "cell_type": "markdown",
      "metadata": {
        "id": "NIXnvhUCEbaS",
        "colab_type": "text"
      },
      "source": [
        "Diabetic data set prediction:"
      ]
    },
    {
      "cell_type": "code",
      "metadata": {
        "id": "we3Q8nraVjiH",
        "colab_type": "code",
        "colab": {
          "base_uri": "https://localhost:8080/",
          "height": 204
        },
        "outputId": "8ea8d431-5298-4816-c4a6-6a68ffc94726"
      },
      "source": [
        "import pandas as pd\n",
        "df=pd.read_csv('/content/drive/My Drive/Python-ml/Machine Learning algo/datasets_228_482_diabetes.csv')\n",
        "df.head()"
      ],
      "execution_count": 211,
      "outputs": [
        {
          "output_type": "execute_result",
          "data": {
            "text/html": [
              "<div>\n",
              "<style scoped>\n",
              "    .dataframe tbody tr th:only-of-type {\n",
              "        vertical-align: middle;\n",
              "    }\n",
              "\n",
              "    .dataframe tbody tr th {\n",
              "        vertical-align: top;\n",
              "    }\n",
              "\n",
              "    .dataframe thead th {\n",
              "        text-align: right;\n",
              "    }\n",
              "</style>\n",
              "<table border=\"1\" class=\"dataframe\">\n",
              "  <thead>\n",
              "    <tr style=\"text-align: right;\">\n",
              "      <th></th>\n",
              "      <th>Pregnancies</th>\n",
              "      <th>Glucose</th>\n",
              "      <th>BloodPressure</th>\n",
              "      <th>SkinThickness</th>\n",
              "      <th>Insulin</th>\n",
              "      <th>BMI</th>\n",
              "      <th>DiabetesPedigreeFunction</th>\n",
              "      <th>Age</th>\n",
              "      <th>Outcome</th>\n",
              "    </tr>\n",
              "  </thead>\n",
              "  <tbody>\n",
              "    <tr>\n",
              "      <th>0</th>\n",
              "      <td>6</td>\n",
              "      <td>148</td>\n",
              "      <td>72</td>\n",
              "      <td>35</td>\n",
              "      <td>0</td>\n",
              "      <td>33.6</td>\n",
              "      <td>0.627</td>\n",
              "      <td>50</td>\n",
              "      <td>1</td>\n",
              "    </tr>\n",
              "    <tr>\n",
              "      <th>1</th>\n",
              "      <td>1</td>\n",
              "      <td>85</td>\n",
              "      <td>66</td>\n",
              "      <td>29</td>\n",
              "      <td>0</td>\n",
              "      <td>26.6</td>\n",
              "      <td>0.351</td>\n",
              "      <td>31</td>\n",
              "      <td>0</td>\n",
              "    </tr>\n",
              "    <tr>\n",
              "      <th>2</th>\n",
              "      <td>8</td>\n",
              "      <td>183</td>\n",
              "      <td>64</td>\n",
              "      <td>0</td>\n",
              "      <td>0</td>\n",
              "      <td>23.3</td>\n",
              "      <td>0.672</td>\n",
              "      <td>32</td>\n",
              "      <td>1</td>\n",
              "    </tr>\n",
              "    <tr>\n",
              "      <th>3</th>\n",
              "      <td>1</td>\n",
              "      <td>89</td>\n",
              "      <td>66</td>\n",
              "      <td>23</td>\n",
              "      <td>94</td>\n",
              "      <td>28.1</td>\n",
              "      <td>0.167</td>\n",
              "      <td>21</td>\n",
              "      <td>0</td>\n",
              "    </tr>\n",
              "    <tr>\n",
              "      <th>4</th>\n",
              "      <td>0</td>\n",
              "      <td>137</td>\n",
              "      <td>40</td>\n",
              "      <td>35</td>\n",
              "      <td>168</td>\n",
              "      <td>43.1</td>\n",
              "      <td>2.288</td>\n",
              "      <td>33</td>\n",
              "      <td>1</td>\n",
              "    </tr>\n",
              "  </tbody>\n",
              "</table>\n",
              "</div>"
            ],
            "text/plain": [
              "   Pregnancies  Glucose  BloodPressure  ...  DiabetesPedigreeFunction  Age  Outcome\n",
              "0            6      148             72  ...                     0.627   50        1\n",
              "1            1       85             66  ...                     0.351   31        0\n",
              "2            8      183             64  ...                     0.672   32        1\n",
              "3            1       89             66  ...                     0.167   21        0\n",
              "4            0      137             40  ...                     2.288   33        1\n",
              "\n",
              "[5 rows x 9 columns]"
            ]
          },
          "metadata": {
            "tags": []
          },
          "execution_count": 211
        }
      ]
    },
    {
      "cell_type": "markdown",
      "metadata": {
        "id": "-71Mnkb-EnOf",
        "colab_type": "text"
      },
      "source": [
        "Outcome:\n",
        "1 = Positive of Diabetes\n",
        "0 = Negative for Diabetes"
      ]
    },
    {
      "cell_type": "code",
      "metadata": {
        "id": "HwJdQu-IfYAx",
        "colab_type": "code",
        "colab": {
          "base_uri": "https://localhost:8080/",
          "height": 289
        },
        "outputId": "fb3a3b0c-5f45-4382-89b7-ab941d8e04ae"
      },
      "source": [
        "df.info()"
      ],
      "execution_count": 212,
      "outputs": [
        {
          "output_type": "stream",
          "text": [
            "<class 'pandas.core.frame.DataFrame'>\n",
            "RangeIndex: 768 entries, 0 to 767\n",
            "Data columns (total 9 columns):\n",
            " #   Column                    Non-Null Count  Dtype  \n",
            "---  ------                    --------------  -----  \n",
            " 0   Pregnancies               768 non-null    int64  \n",
            " 1   Glucose                   768 non-null    int64  \n",
            " 2   BloodPressure             768 non-null    int64  \n",
            " 3   SkinThickness             768 non-null    int64  \n",
            " 4   Insulin                   768 non-null    int64  \n",
            " 5   BMI                       768 non-null    float64\n",
            " 6   DiabetesPedigreeFunction  768 non-null    float64\n",
            " 7   Age                       768 non-null    int64  \n",
            " 8   Outcome                   768 non-null    int64  \n",
            "dtypes: float64(2), int64(7)\n",
            "memory usage: 54.1 KB\n"
          ],
          "name": "stdout"
        }
      ]
    },
    {
      "cell_type": "markdown",
      "metadata": {
        "id": "rWVwMiClFACT",
        "colab_type": "text"
      },
      "source": [
        "Splitting the model:"
      ]
    },
    {
      "cell_type": "code",
      "metadata": {
        "id": "nkEb22OtgMQ5",
        "colab_type": "code",
        "colab": {}
      },
      "source": [
        "x=df.iloc[:,0:8]\n",
        "y=df.iloc[:,8]\n",
        "tsize=0.3\n",
        "from sklearn.model_selection import train_test_split\n",
        "x_train,x_test,y_train,y_test=train_test_split(x,y,random_state=27,test_size=tsize)"
      ],
      "execution_count": 213,
      "outputs": []
    },
    {
      "cell_type": "code",
      "metadata": {
        "id": "s3YF6snxmV8f",
        "colab_type": "code",
        "colab": {
          "base_uri": "https://localhost:8080/",
          "height": 419
        },
        "outputId": "2487f1a1-0361-4ed4-c3b2-0eeb4b966523"
      },
      "source": [
        "x_test"
      ],
      "execution_count": 214,
      "outputs": [
        {
          "output_type": "execute_result",
          "data": {
            "text/html": [
              "<div>\n",
              "<style scoped>\n",
              "    .dataframe tbody tr th:only-of-type {\n",
              "        vertical-align: middle;\n",
              "    }\n",
              "\n",
              "    .dataframe tbody tr th {\n",
              "        vertical-align: top;\n",
              "    }\n",
              "\n",
              "    .dataframe thead th {\n",
              "        text-align: right;\n",
              "    }\n",
              "</style>\n",
              "<table border=\"1\" class=\"dataframe\">\n",
              "  <thead>\n",
              "    <tr style=\"text-align: right;\">\n",
              "      <th></th>\n",
              "      <th>Pregnancies</th>\n",
              "      <th>Glucose</th>\n",
              "      <th>BloodPressure</th>\n",
              "      <th>SkinThickness</th>\n",
              "      <th>Insulin</th>\n",
              "      <th>BMI</th>\n",
              "      <th>DiabetesPedigreeFunction</th>\n",
              "      <th>Age</th>\n",
              "    </tr>\n",
              "  </thead>\n",
              "  <tbody>\n",
              "    <tr>\n",
              "      <th>223</th>\n",
              "      <td>7</td>\n",
              "      <td>142</td>\n",
              "      <td>60</td>\n",
              "      <td>33</td>\n",
              "      <td>190</td>\n",
              "      <td>28.8</td>\n",
              "      <td>0.687</td>\n",
              "      <td>61</td>\n",
              "    </tr>\n",
              "    <tr>\n",
              "      <th>461</th>\n",
              "      <td>1</td>\n",
              "      <td>71</td>\n",
              "      <td>62</td>\n",
              "      <td>0</td>\n",
              "      <td>0</td>\n",
              "      <td>21.8</td>\n",
              "      <td>0.416</td>\n",
              "      <td>26</td>\n",
              "    </tr>\n",
              "    <tr>\n",
              "      <th>175</th>\n",
              "      <td>8</td>\n",
              "      <td>179</td>\n",
              "      <td>72</td>\n",
              "      <td>42</td>\n",
              "      <td>130</td>\n",
              "      <td>32.7</td>\n",
              "      <td>0.719</td>\n",
              "      <td>36</td>\n",
              "    </tr>\n",
              "    <tr>\n",
              "      <th>636</th>\n",
              "      <td>5</td>\n",
              "      <td>104</td>\n",
              "      <td>74</td>\n",
              "      <td>0</td>\n",
              "      <td>0</td>\n",
              "      <td>28.8</td>\n",
              "      <td>0.153</td>\n",
              "      <td>48</td>\n",
              "    </tr>\n",
              "    <tr>\n",
              "      <th>349</th>\n",
              "      <td>5</td>\n",
              "      <td>0</td>\n",
              "      <td>80</td>\n",
              "      <td>32</td>\n",
              "      <td>0</td>\n",
              "      <td>41.0</td>\n",
              "      <td>0.346</td>\n",
              "      <td>37</td>\n",
              "    </tr>\n",
              "    <tr>\n",
              "      <th>...</th>\n",
              "      <td>...</td>\n",
              "      <td>...</td>\n",
              "      <td>...</td>\n",
              "      <td>...</td>\n",
              "      <td>...</td>\n",
              "      <td>...</td>\n",
              "      <td>...</td>\n",
              "      <td>...</td>\n",
              "    </tr>\n",
              "    <tr>\n",
              "      <th>3</th>\n",
              "      <td>1</td>\n",
              "      <td>89</td>\n",
              "      <td>66</td>\n",
              "      <td>23</td>\n",
              "      <td>94</td>\n",
              "      <td>28.1</td>\n",
              "      <td>0.167</td>\n",
              "      <td>21</td>\n",
              "    </tr>\n",
              "    <tr>\n",
              "      <th>183</th>\n",
              "      <td>5</td>\n",
              "      <td>73</td>\n",
              "      <td>60</td>\n",
              "      <td>0</td>\n",
              "      <td>0</td>\n",
              "      <td>26.8</td>\n",
              "      <td>0.268</td>\n",
              "      <td>27</td>\n",
              "    </tr>\n",
              "    <tr>\n",
              "      <th>652</th>\n",
              "      <td>5</td>\n",
              "      <td>123</td>\n",
              "      <td>74</td>\n",
              "      <td>40</td>\n",
              "      <td>77</td>\n",
              "      <td>34.1</td>\n",
              "      <td>0.269</td>\n",
              "      <td>28</td>\n",
              "    </tr>\n",
              "    <tr>\n",
              "      <th>578</th>\n",
              "      <td>10</td>\n",
              "      <td>133</td>\n",
              "      <td>68</td>\n",
              "      <td>0</td>\n",
              "      <td>0</td>\n",
              "      <td>27.0</td>\n",
              "      <td>0.245</td>\n",
              "      <td>36</td>\n",
              "    </tr>\n",
              "    <tr>\n",
              "      <th>400</th>\n",
              "      <td>4</td>\n",
              "      <td>95</td>\n",
              "      <td>64</td>\n",
              "      <td>0</td>\n",
              "      <td>0</td>\n",
              "      <td>32.0</td>\n",
              "      <td>0.161</td>\n",
              "      <td>31</td>\n",
              "    </tr>\n",
              "  </tbody>\n",
              "</table>\n",
              "<p>231 rows × 8 columns</p>\n",
              "</div>"
            ],
            "text/plain": [
              "     Pregnancies  Glucose  BloodPressure  ...   BMI  DiabetesPedigreeFunction  Age\n",
              "223            7      142             60  ...  28.8                     0.687   61\n",
              "461            1       71             62  ...  21.8                     0.416   26\n",
              "175            8      179             72  ...  32.7                     0.719   36\n",
              "636            5      104             74  ...  28.8                     0.153   48\n",
              "349            5        0             80  ...  41.0                     0.346   37\n",
              "..           ...      ...            ...  ...   ...                       ...  ...\n",
              "3              1       89             66  ...  28.1                     0.167   21\n",
              "183            5       73             60  ...  26.8                     0.268   27\n",
              "652            5      123             74  ...  34.1                     0.269   28\n",
              "578           10      133             68  ...  27.0                     0.245   36\n",
              "400            4       95             64  ...  32.0                     0.161   31\n",
              "\n",
              "[231 rows x 8 columns]"
            ]
          },
          "metadata": {
            "tags": []
          },
          "execution_count": 214
        }
      ]
    },
    {
      "cell_type": "markdown",
      "metadata": {
        "id": "LNlINEzbNzHK",
        "colab_type": "text"
      },
      "source": [
        "Preprocessing:"
      ]
    },
    {
      "cell_type": "code",
      "metadata": {
        "id": "G465gBgHmTTX",
        "colab_type": "code",
        "colab": {
          "base_uri": "https://localhost:8080/",
          "height": 136
        },
        "outputId": "0eea3cdd-1041-4237-c00d-e4c48d1690f6"
      },
      "source": [
        "from sklearn.preprocessing import MinMaxScaler\n",
        "scalar=MinMaxScaler()\n",
        "x1_train=scalar.fit_transform(x_train)\n",
        "x1_test=scalar.transform(x_test)\n",
        "print(x1_train)"
      ],
      "execution_count": 215,
      "outputs": [
        {
          "output_type": "stream",
          "text": [
            "[[0.11764706 0.61809045 0.39344262 ... 0.73472949 0.19385027 0.10416667]\n",
            " [0.05882353 0.5879397  0.49180328 ... 0.58987784 0.1697861  0.125     ]\n",
            " [0.05882353 0.39698492 0.6557377  ... 0.44328098 0.22192513 0.02083333]\n",
            " ...\n",
            " [0.23529412 0.42211055 0.73770492 ... 0.68935428 0.03297683 0.08333333]\n",
            " [0.17647059 0.84924623 0.60655738 ... 0.52181501 0.0815508  0.20833333]\n",
            " [0.05882353 0.57788945 0.57377049 ... 0.60383944 0.19786096 0.22916667]]\n"
          ],
          "name": "stdout"
        }
      ]
    },
    {
      "cell_type": "markdown",
      "metadata": {
        "id": "hL67yPjkN6DL",
        "colab_type": "text"
      },
      "source": [
        "Model fitting:"
      ]
    },
    {
      "cell_type": "code",
      "metadata": {
        "id": "bJVW2pmQ1h0b",
        "colab_type": "code",
        "colab": {
          "base_uri": "https://localhost:8080/",
          "height": 204
        },
        "outputId": "fa358a51-e6f3-4455-b11c-c949691ec967"
      },
      "source": [
        "from sklearn.neighbors import KNeighborsClassifier\n",
        "model=KNeighborsClassifier(n_neighbors=14)\n",
        "model.fit(x1_train,y_train)\n",
        "y_pred=model.predict(x1_test)\n",
        "y_pred"
      ],
      "execution_count": 216,
      "outputs": [
        {
          "output_type": "execute_result",
          "data": {
            "text/plain": [
              "array([1, 0, 1, 1, 0, 0, 0, 0, 0, 0, 1, 0, 0, 1, 0, 0, 0, 1, 0, 0, 0, 0,\n",
              "       0, 1, 0, 0, 0, 0, 0, 0, 0, 0, 0, 0, 0, 1, 1, 0, 0, 1, 1, 0, 1, 0,\n",
              "       0, 0, 0, 0, 0, 0, 1, 1, 0, 0, 0, 0, 0, 1, 0, 0, 0, 0, 0, 0, 0, 0,\n",
              "       0, 0, 0, 0, 0, 0, 0, 0, 0, 0, 0, 0, 0, 0, 0, 0, 0, 0, 0, 0, 0, 0,\n",
              "       0, 1, 0, 0, 1, 1, 1, 0, 0, 0, 1, 0, 0, 0, 0, 0, 1, 0, 0, 0, 0, 0,\n",
              "       0, 0, 0, 1, 0, 0, 0, 0, 1, 1, 0, 1, 1, 0, 0, 0, 0, 1, 0, 0, 0, 0,\n",
              "       1, 0, 0, 0, 0, 0, 0, 0, 0, 0, 1, 0, 0, 0, 0, 1, 0, 1, 0, 0, 0, 0,\n",
              "       1, 0, 0, 1, 0, 0, 0, 0, 0, 0, 0, 0, 0, 0, 0, 0, 0, 1, 0, 0, 0, 0,\n",
              "       0, 0, 0, 0, 1, 0, 0, 0, 0, 0, 0, 1, 1, 0, 0, 0, 0, 0, 0, 1, 0, 0,\n",
              "       1, 0, 0, 0, 0, 0, 0, 1, 0, 1, 0, 0, 0, 0, 1, 1, 0, 0, 1, 0, 1, 0,\n",
              "       0, 0, 1, 0, 0, 0, 0, 0, 0, 1, 0])"
            ]
          },
          "metadata": {
            "tags": []
          },
          "execution_count": 216
        }
      ]
    },
    {
      "cell_type": "markdown",
      "metadata": {
        "id": "J8BM-CFyFGmv",
        "colab_type": "text"
      },
      "source": [
        "Accuracy of the model's prediction:"
      ]
    },
    {
      "cell_type": "code",
      "metadata": {
        "id": "b8ZWQCMs13Lr",
        "colab_type": "code",
        "colab": {
          "base_uri": "https://localhost:8080/",
          "height": 34
        },
        "outputId": "8b529518-9429-435d-b6fe-cdd4989047ee"
      },
      "source": [
        "from sklearn.metrics import accuracy_score\n",
        "acc=accuracy_score(y_test,y_pred)*100\n",
        "acc"
      ],
      "execution_count": 217,
      "outputs": [
        {
          "output_type": "execute_result",
          "data": {
            "text/plain": [
              "75.75757575757575"
            ]
          },
          "metadata": {
            "tags": []
          },
          "execution_count": 217
        }
      ]
    },
    {
      "cell_type": "code",
      "metadata": {
        "id": "ld0a9j4Wi_ZK",
        "colab_type": "code",
        "colab": {
          "base_uri": "https://localhost:8080/",
          "height": 204
        },
        "outputId": "1ac53c0a-f994-4444-f66a-85e6737e3b3a"
      },
      "source": [
        "from sklearn.metrics import confusion_matrix,classification_report\n",
        "print(confusion_matrix(y_test,y_pred))\n",
        "print(classification_report(y_test, y_pred)) "
      ],
      "execution_count": 218,
      "outputs": [
        {
          "output_type": "stream",
          "text": [
            "[[140  12]\n",
            " [ 44  35]]\n",
            "              precision    recall  f1-score   support\n",
            "\n",
            "           0       0.76      0.92      0.83       152\n",
            "           1       0.74      0.44      0.56        79\n",
            "\n",
            "    accuracy                           0.76       231\n",
            "   macro avg       0.75      0.68      0.69       231\n",
            "weighted avg       0.76      0.76      0.74       231\n",
            "\n"
          ],
          "name": "stdout"
        }
      ]
    },
    {
      "cell_type": "markdown",
      "metadata": {
        "id": "uVKPRh2mEPHx",
        "colab_type": "text"
      },
      "source": [
        "Predicting for a sample:"
      ]
    },
    {
      "cell_type": "markdown",
      "metadata": {
        "id": "HLsYHodXFVah",
        "colab_type": "text"
      },
      "source": [
        "For a positive case:"
      ]
    },
    {
      "cell_type": "code",
      "metadata": {
        "id": "3G8eFsDVkxfn",
        "colab_type": "code",
        "colab": {
          "base_uri": "https://localhost:8080/",
          "height": 34
        },
        "outputId": "0fb34484-14b2-4502-a58f-55b46a1cc87c"
      },
      "source": [
        "a=[[9,170,74,31,0,44.0,0.403,43]]\n",
        "a=scalar.transform(a)\n",
        "b=model.predict(a)\n",
        "print(b)"
      ],
      "execution_count": 219,
      "outputs": [
        {
          "output_type": "stream",
          "text": [
            "[1]\n"
          ],
          "name": "stdout"
        }
      ]
    },
    {
      "cell_type": "markdown",
      "metadata": {
        "id": "BIkjAmNhFZV7",
        "colab_type": "text"
      },
      "source": [
        "For a negative case:"
      ]
    },
    {
      "cell_type": "code",
      "metadata": {
        "id": "vM6mdtSnolM4",
        "colab_type": "code",
        "colab": {
          "base_uri": "https://localhost:8080/",
          "height": 34
        },
        "outputId": "919b4300-503e-40f1-8840-15ae95dfbd5b"
      },
      "source": [
        "a=[[1,85,66,29,0,26.6,0.351,31]]\n",
        "a=scalar.transform(a)\n",
        "b=model.predict(a)\n",
        "print(b)"
      ],
      "execution_count": 220,
      "outputs": [
        {
          "output_type": "stream",
          "text": [
            "[0]\n"
          ],
          "name": "stdout"
        }
      ]
    },
    {
      "cell_type": "markdown",
      "metadata": {
        "id": "dQrQi_bJObNf",
        "colab_type": "text"
      },
      "source": [
        "Variation with k:"
      ]
    },
    {
      "cell_type": "code",
      "metadata": {
        "id": "_2NUB8enOXo-",
        "colab_type": "code",
        "colab": {
          "base_uri": "https://localhost:8080/",
          "height": 312
        },
        "outputId": "f821b464-e6f2-4f2d-ce06-24ec4417838d"
      },
      "source": [
        "x_train,x_test,y_train,y_test=train_test_split(x,y,random_state=27)\n",
        "scalar=MinMaxScaler()\n",
        "x1_train=scalar.fit_transform(x_train)\n",
        "import numpy as np\n",
        "accuracy=np.zeros(40)\n",
        "x1_test=scalar.transform(x_test)\n",
        "for k in range(1,40):\n",
        "  model=KNeighborsClassifier(n_neighbors=k)\n",
        "  model.fit(x1_train,y_train)\n",
        "  y_pred=model.predict(x1_test)\n",
        "  accuracy[k]=accuracy_score(y_test,y_pred)*100\n",
        "import matplotlib.pyplot as plt\n",
        "plt.plot(range(1,41),accuracy)\n",
        "plt.title('variation of accuracy with k')\n",
        "plt.xlabel('k')\n",
        "plt.ylabel('% of accuracy')"
      ],
      "execution_count": 221,
      "outputs": [
        {
          "output_type": "execute_result",
          "data": {
            "text/plain": [
              "Text(0, 0.5, '% of accuracy')"
            ]
          },
          "metadata": {
            "tags": []
          },
          "execution_count": 221
        },
        {
          "output_type": "display_data",
          "data": {
            "image/png": "[encoded data removed]",
            "text/plain": [
              "<Figure size 432x288 with 1 Axes>"
            ]
          },
          "metadata": {
            "tags": [],
            "needs_background": "light"
          }
        }
      ]
    },
    {
      "cell_type": "code",
      "metadata": {
        "id": "Bl4Dl1ZfSC_I",
        "colab_type": "code",
        "colab": {
          "base_uri": "https://localhost:8080/",
          "height": 340
        },
        "outputId": "111e5b52-1f36-405d-9e6b-25b2c5941bd3"
      },
      "source": [
        "from sklearn.metrics import classification_report\n",
        "#k=1:\n",
        "model=KNeighborsClassifier(n_neighbors = 1) \n",
        "model.fit(x_train,y_train) \n",
        "y_pred=model.predict(x_test) \n",
        "print(classification_report(y_test,y_pred),'\\n')\n",
        "#k=14\n",
        "model=KNeighborsClassifier(n_neighbors = 14) \n",
        "model.fit(x_train,y_train) \n",
        "y_pred = model.predict(x_test)\n",
        "print(classification_report(y_test, y_pred)) "
      ],
      "execution_count": 222,
      "outputs": [
        {
          "output_type": "stream",
          "text": [
            "              precision    recall  f1-score   support\n",
            "\n",
            "           0       0.82      0.78      0.80       130\n",
            "           1       0.59      0.65      0.62        62\n",
            "\n",
            "    accuracy                           0.74       192\n",
            "   macro avg       0.71      0.71      0.71       192\n",
            "weighted avg       0.75      0.74      0.74       192\n",
            " \n",
            "\n",
            "              precision    recall  f1-score   support\n",
            "\n",
            "           0       0.78      0.89      0.83       130\n",
            "           1       0.68      0.48      0.57        62\n",
            "\n",
            "    accuracy                           0.76       192\n",
            "   macro avg       0.73      0.69      0.70       192\n",
            "weighted avg       0.75      0.76      0.75       192\n",
            "\n"
          ],
          "name": "stdout"
        }
      ]
    },
    {
      "cell_type": "markdown",
      "metadata": {
        "id": "_XnairFRY0XC",
        "colab_type": "text"
      },
      "source": [
        "We can squeeze some more performance out of our model by changing to better k value,\n",
        "from k=1 to k=14.\n"
      ]
    }
  ]
}